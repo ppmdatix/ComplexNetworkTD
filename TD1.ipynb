{
 "cells": [
  {
   "cell_type": "markdown",
   "metadata": {},
   "source": [
    "# Complex Networks: TD1\n",
    "\n",
    "------"
   ]
  },
  {
   "cell_type": "markdown",
   "metadata": {},
   "source": [
    "__I always start my notebooks this way__"
   ]
  },
  {
   "cell_type": "code",
   "execution_count": 1,
   "metadata": {},
   "outputs": [
    {
     "data": {
      "text/html": [
       "<style>.container { width:100% !important; }</style>"
      ],
      "text/plain": [
       "<IPython.core.display.HTML object>"
      ]
     },
     "metadata": {},
     "output_type": "display_data"
    }
   ],
   "source": [
    "%reset -f\n",
    "from IPython.core.display import display, HTML\n",
    "display(HTML(\"<style>.container { width:100% !important; }</style>\"))"
   ]
  },
  {
   "cell_type": "markdown",
   "metadata": {},
   "source": [
    "Importing useful packages"
   ]
  },
  {
   "cell_type": "code",
   "execution_count": 2,
   "metadata": {
    "collapsed": true
   },
   "outputs": [],
   "source": [
    "#My own code\n",
    "from ShortestPath import *\n",
    "#Compute faster\n",
    "from itertools import combinations\n",
    "#Visualization\n",
    "import numpy as np\n",
    "import pandas as pd\n",
    "from tqdm import tqdm\n",
    "import warnings\n",
    "warnings.filterwarnings(\"ignore\")\n",
    "import time"
   ]
  },
  {
   "cell_type": "markdown",
   "metadata": {},
   "source": [
    "### Here we define the Graph class asked"
   ]
  },
  {
   "cell_type": "code",
   "execution_count": 40,
   "metadata": {
    "scrolled": true
   },
   "outputs": [],
   "source": [
    "class Graph(object):\n",
    "    def __init__(self, graph_dict=None):\n",
    "        \"\"\" initializes a graph object \"\"\"\n",
    "        if graph_dict:\n",
    "            self.__graph_dict = graph_dict\n",
    "        else:\n",
    "            self.__graph_dict = dict()\n",
    "\n",
    "\n",
    "    def vertices(self):\n",
    "        \"\"\" returns the vertices of a graph \"\"\"\n",
    "        return list(self.__graph_dict.keys())\n",
    "\n",
    "    def edges(self):\n",
    "        \"\"\" returns the edges of a graph \"\"\"\n",
    "        return self.__generate_edges()\n",
    "\n",
    "    def add_vertex(self, vertex):\n",
    "        \"\"\" If vertex is not in self.__graph_dict, a key \"vertex\" with an empty\n",
    "        list as a value is added to the dictionary. Otherwise nothing has to be \n",
    "        done. To complete.\"\"\"\n",
    "        if  type(vertex) != str:\n",
    "            print(\"It has to be a string\")\n",
    "            return False\n",
    "        if not vertex in self.vertices():\n",
    "            self.__graph_dict[vertex] = list() \n",
    "\n",
    "    def add_edge(self, edge):\n",
    "        \"\"\" assumes that edge is of type set, tuple or list. No loops or \n",
    "        multiple edges. To complete.\"\"\"\n",
    "        for vertex in edge:\n",
    "            if not vertex in self.vertices():\n",
    "                print(\"One of these vertices is not in the Graph. Add it before\")\n",
    "                return False\n",
    "        vertex1, vertex2 = edge\n",
    "        self.__graph_dict[vertex1].append(vertex2)\n",
    "        self.__graph_dict[vertex2].append(vertex1)\n",
    "        \n",
    "        \n",
    "    def __generate_edges(self):\n",
    "        \"\"\" A static method generating the edges of the graph \"graph\". Edges \n",
    "        are represented as sets two vertices, with no loops. To complete.\"\"\"\n",
    "        edges = []\n",
    "        for vertice in list(self.__graph_dict.keys()):\n",
    "            for vertice2 in self.__graph_dict[vertice]:\n",
    "                if not set([vertice, vertice2]) in edges:\n",
    "                    edges.append(set([vertice, vertice2]))\n",
    "        \n",
    "        return edges\n",
    "\n",
    "    def vertex_degree(self):\n",
    "        \"\"\"returns degrees of each vertices, in a dict \n",
    "        \"\"\"\n",
    "        output = dict()\n",
    "        for vertex in self.vertices():\n",
    "            output[vertex] = len(self.__graph_dict[vertex])\n",
    "        return output\n",
    "    \n",
    "    def find_isolated_vertices(self):\n",
    "        \"\"\"returns the list of the isolated vertices\n",
    "        \"\"\"\n",
    "        vertex_degrees = self.vertex_degree()\n",
    "        return [vertex for vertex in vertex_degrees.keys() if vertex_degrees[vertex] == 0]\n",
    "    \n",
    "    def density(self):\n",
    "        \"\"\"returns the density of the graph. It is a float number.\"\"\"\n",
    "        return 2 * len(self.edges()) / ((len(self.vertices()))*(len(self.vertices())-1))\n",
    "    \n",
    "    def degree_sequence(self):\n",
    "        \"\"\"It returns the non increasing list of degrees in the graph\"\"\"\n",
    "        vertex_degrees = self.vertex_degree()\n",
    "        return tuple(sorted([vertex_degrees[vertex] for vertex in vertex_degrees.keys()], reverse=True))\n",
    "        \n",
    "\n",
    "    def erdos_gallai(self,degree_sequence):\n",
    "        \"\"\"returns the boolean saying if the degree sequence corresponds to an actual graph\"\"\"\n",
    "        length = len(degree_sequence)\n",
    "        for k in range(1, length+1):\n",
    "            \n",
    "            sumLeft = sum(degree_sequence[:k])\n",
    "            sumRight = k*(k-1) + sum([min(d,k) for d in degree_sequence[k:]])\n",
    "            if sumLeft > sumRight:\n",
    "                return False\n",
    "        return True\n",
    "    def global_clustering_coefficient(self):\n",
    "        \"\"\"returns the global clustering coefficient\"\"\"\n",
    "        vertex_degrees = self.vertex_degree()\n",
    "        number_of_connected_triplets_of_vertices = int(sum([vertex_degrees[vertex]*(vertex_degrees[vertex]-1)/2 for vertex in vertex_degrees.keys()]))\n",
    "        closed_triplets = 0\n",
    "        for vertexMaster in self.vertices():\n",
    "            for vertexA, vertexB in combinations(self.__graph_dict[vertexMaster],2):\n",
    "                closed_triplets += (vertexA in self.__graph_dict[vertexB]) and (vertexB in self.__graph_dict[vertexA])\n",
    "        output = closed_triplets / number_of_connected_triplets_of_vertices\n",
    "        if output > 1 or output < 0:\n",
    "            print(\"Do not trust the output\")\n",
    "            return -1\n",
    "        return output\n",
    "        \n",
    "    def shortestPath(self,debut,fin):\n",
    "        \n",
    "        try:\n",
    "            return shortest(self.__graph_dict,debut,fin,[],{},{},debut)\n",
    "        except:\n",
    "            if debut == fin:\n",
    "                return (0, [debut,fin])\n",
    "            else:\n",
    "                return (float(\"inf\"), [])\n",
    "        #return shortest(self.__graph_dict,debut,fin,[],{},{},debut)\n",
    "    \n",
    "    def diameter(self, mode=\"np\"):\n",
    "        vertices = self.vertices()\n",
    "        keys = vertices\n",
    "        values = [i for i in range(len(self.vertices()))]\n",
    "        dictionary = dict(zip(keys, values))\n",
    "        if mode==\"np\":\n",
    "            output = np.empty((len(vertices),len(vertices),))\n",
    "            output[:] = float(\"inf\")\n",
    "        \n",
    "        for a in dictionary:\n",
    "            output[dictionary[a]][dictionary[a]] = 0\n",
    "        edges = self.edges()\n",
    "        for a,b in edges:\n",
    "            output[dictionary[a]][dictionary[b]] = 1\n",
    "            output[dictionary[b]][dictionary[a]] = 1\n",
    "        \"\"\"\n",
    "        for k,i,j in tqdm(zip(vertices,vertices,vertices)):\n",
    "            if output[i][j] > output[i][k] + output[k][j]:\n",
    "                output[i][j] = output[i][k] + output[k][j]\n",
    "                \"\"\"\n",
    "        for k in tqdm(values):\n",
    "            for i in values:\n",
    "                for j in values:\n",
    "                    if output[i][j] > output[i][k] + output[k][j]:\n",
    "                        output[i][j] = output[i][k] + output[k][j]\n",
    "        return output.max()\n",
    "        \n",
    "    \n",
    "    def connectedComponents(self):\n",
    "        vertices = self.vertices()\n",
    "        checkedVertices = list()\n",
    "        output = []\n",
    "        \n",
    "        for vertexMaster in vertices:\n",
    "            if not vertexMaster in checkedVertices:\n",
    "                component = [vertexMaster]\n",
    "                for vertexSlave in vertices:\n",
    "                    if self.shortestPath(vertexMaster, vertexSlave)[0] != float(\"inf\"):\n",
    "                        checkedVertices.append(vertexSlave)\n",
    "                        component.append(vertexSlave)\n",
    "                checkedVertices.append(vertexMaster)\n",
    "                output.append(component)\n",
    "        return output\n",
    "    \n",
    "    def connectedComponentsResume(self):\n",
    "        cc = self.connectedComponents()\n",
    "        return {\"number\": len(cc), \"maxSize\": max([len(c) for c in cc]), \"minSize\": min([len(c) for c in cc])}\n",
    "                        \n",
    "    def diameter_bis(self):\n",
    "        vertices = self.vertices()\n",
    "        #return max([self.dij_rec(vertexA,vertexB)[0] for vertexA, vertexB in combinations(vertices,2)])\n",
    "        liste = []\n",
    "        max_listes = []\n",
    "        for vertexA, vertexB in tqdm(combinations(vertices,2)):\n",
    "            add = True\n",
    "            for path in max_listes:\n",
    "                if vertexA in path and vertexB in path:\n",
    "                    add = False\n",
    "                    break\n",
    "            if add:\n",
    "                shortest = self.shortestPath(vertexA,vertexB)\n",
    "                max_listes.append(shortest[1])\n",
    "                liste.append(shortest[0])\n",
    "        return max(liste)\n",
    "            \n",
    "    def biggestComponentDiameter(self):\n",
    "        cc = self.connectedComponents()\n",
    "        argmax = np.argmax([len(c) for c in cc])\n",
    "        vertices = cc[argmax]\n",
    "        return max([self.dij_rec(vertexA,vertexB)[0] for vertexA, vertexB in combinations(vertices,2)])\n",
    "        \n",
    "    def spanning_tree(self):\n",
    "        output = Graph()\n",
    "        visitedVertices = list()\n",
    "        firstVertex = self.vertices()[0]\n",
    "        output.add_vertex(firstVertex)\n",
    "        visitedVertices.append(firstVertex)\n",
    "        \n",
    "        vertices = self.vertices()\n",
    "        values = [0 for _ in range(len(vertices))]\n",
    "        visited = dict(zip(keys, values))\n",
    " \n",
    "        "
   ]
  },
  {
   "cell_type": "code",
   "execution_count": null,
   "metadata": {
    "collapsed": true
   },
   "outputs": [],
   "source": []
  },
  {
   "cell_type": "markdown",
   "metadata": {},
   "source": [
    "--------------\n"
   ]
  },
  {
   "cell_type": "markdown",
   "metadata": {},
   "source": [
    "## Testing on little data"
   ]
  },
  {
   "cell_type": "markdown",
   "metadata": {},
   "source": [
    "Defining a basic graph, the one that will be tested"
   ]
  },
  {
   "cell_type": "code",
   "execution_count": 41,
   "metadata": {
    "collapsed": true
   },
   "outputs": [],
   "source": [
    "G={ \"a\": [\"c\", \"d\", \"g\"],\n",
    "    \"b\": [\"c\", \"f\"],\n",
    "    \"c\": [\"a\", \"b\", \"d\", \"f\"],\n",
    "    \"d\": [\"a\", \"c\", \"e\", \"g\"],\n",
    "    \"e\": [\"d\"],\n",
    "    \"f\": [\"b\", \"c\"],\n",
    "    \"g\": [\"a\", \"d\"]}\n",
    "\"\"\",\n",
    "    \"x\": [\"y\"],\n",
    "    \"y\": [\"x\",\"z\"],\n",
    "    \"z\": [\"y\", \"t\"],\n",
    "    \"t\": [\"z\"]\n",
    "  }\n",
    "\"\"\"\n",
    "graph = Graph(G)"
   ]
  },
  {
   "cell_type": "markdown",
   "metadata": {},
   "source": [
    "### 1. Building an elementary graph library"
   ]
  },
  {
   "cell_type": "markdown",
   "metadata": {},
   "source": [
    "#### 1.a)"
   ]
  },
  {
   "cell_type": "code",
   "execution_count": 42,
   "metadata": {},
   "outputs": [
    {
     "data": {
      "text/plain": [
       "[{'a', 'c'},\n",
       " {'a', 'd'},\n",
       " {'a', 'g'},\n",
       " {'b', 'c'},\n",
       " {'b', 'f'},\n",
       " {'c', 'd'},\n",
       " {'c', 'f'},\n",
       " {'d', 'e'},\n",
       " {'d', 'g'}]"
      ]
     },
     "execution_count": 42,
     "metadata": {},
     "output_type": "execute_result"
    }
   ],
   "source": [
    "graph.edges()"
   ]
  },
  {
   "cell_type": "markdown",
   "metadata": {},
   "source": [
    "#### 1.b)"
   ]
  },
  {
   "cell_type": "code",
   "execution_count": 6,
   "metadata": {
    "collapsed": true
   },
   "outputs": [],
   "source": [
    "#graph.add_vertex(\"addedVertex\")"
   ]
  },
  {
   "cell_type": "markdown",
   "metadata": {},
   "source": [
    "#### 1.c)"
   ]
  },
  {
   "cell_type": "code",
   "execution_count": 7,
   "metadata": {
    "collapsed": true
   },
   "outputs": [],
   "source": [
    "#graph.add_edge({\"a\",\"b\"})"
   ]
  },
  {
   "cell_type": "markdown",
   "metadata": {},
   "source": [
    "----\n",
    "### 2. Methods related to degree"
   ]
  },
  {
   "cell_type": "markdown",
   "metadata": {},
   "source": [
    "#### 2.1 Degree and isolated vertices\n",
    "#### a)"
   ]
  },
  {
   "cell_type": "code",
   "execution_count": 8,
   "metadata": {},
   "outputs": [
    {
     "data": {
      "text/plain": [
       "{'a': 3, 'b': 2, 'c': 4, 'd': 4, 'e': 1, 'f': 2, 'g': 2}"
      ]
     },
     "execution_count": 8,
     "metadata": {},
     "output_type": "execute_result"
    }
   ],
   "source": [
    "graph.vertex_degree()"
   ]
  },
  {
   "cell_type": "markdown",
   "metadata": {},
   "source": [
    "#### b)"
   ]
  },
  {
   "cell_type": "code",
   "execution_count": 9,
   "metadata": {},
   "outputs": [
    {
     "data": {
      "text/plain": [
       "[]"
      ]
     },
     "execution_count": 9,
     "metadata": {},
     "output_type": "execute_result"
    }
   ],
   "source": [
    "graph.find_isolated_vertices()"
   ]
  },
  {
   "cell_type": "markdown",
   "metadata": {},
   "source": [
    "#### 2.2 Density calculation"
   ]
  },
  {
   "cell_type": "code",
   "execution_count": 10,
   "metadata": {},
   "outputs": [
    {
     "data": {
      "text/plain": [
       "0.42857142857142855"
      ]
     },
     "execution_count": 10,
     "metadata": {},
     "output_type": "execute_result"
    }
   ],
   "source": [
    "graph.density()"
   ]
  },
  {
   "cell_type": "markdown",
   "metadata": {},
   "source": [
    "#### 2.3 Degree sequence"
   ]
  },
  {
   "cell_type": "code",
   "execution_count": 11,
   "metadata": {},
   "outputs": [
    {
     "data": {
      "text/plain": [
       "(4, 4, 3, 2, 2, 2, 1)"
      ]
     },
     "execution_count": 11,
     "metadata": {},
     "output_type": "execute_result"
    }
   ],
   "source": [
    "graph.degree_sequence()"
   ]
  },
  {
   "cell_type": "markdown",
   "metadata": {},
   "source": [
    "#### 2.4 Erdoïs-Gallai theorem"
   ]
  },
  {
   "cell_type": "code",
   "execution_count": 12,
   "metadata": {},
   "outputs": [
    {
     "data": {
      "text/plain": [
       "True"
      ]
     },
     "execution_count": 12,
     "metadata": {},
     "output_type": "execute_result"
    }
   ],
   "source": [
    "graph.erdos_gallai(graph.degree_sequence())"
   ]
  },
  {
   "cell_type": "markdown",
   "metadata": {},
   "source": [
    "#### 2.5 Clustering coefficient"
   ]
  },
  {
   "cell_type": "code",
   "execution_count": 13,
   "metadata": {},
   "outputs": [
    {
     "data": {
      "text/plain": [
       "0.5"
      ]
     },
     "execution_count": 13,
     "metadata": {},
     "output_type": "execute_result"
    }
   ],
   "source": [
    "graph.global_clustering_coefficient()"
   ]
  },
  {
   "cell_type": "markdown",
   "metadata": {},
   "source": [
    "### 2. Methods related to graph traversal"
   ]
  },
  {
   "cell_type": "markdown",
   "metadata": {},
   "source": [
    "#### 3.1 Connected components"
   ]
  },
  {
   "cell_type": "code",
   "execution_count": 14,
   "metadata": {},
   "outputs": [
    {
     "name": "stdout",
     "output_type": "stream",
     "text": [
      "[['a', 'a', 'b', 'c', 'd', 'e', 'f', 'g']]\n",
      "\n",
      "\n",
      "{'number': 1, 'maxSize': 8, 'minSize': 8}\n"
     ]
    }
   ],
   "source": [
    "print(graph.connectedComponents())\n",
    "print(\"\\n\")\n",
    "print(graph.connectedComponentsResume())"
   ]
  },
  {
   "cell_type": "markdown",
   "metadata": {},
   "source": [
    "#### 3.2 Shortest path"
   ]
  },
  {
   "cell_type": "code",
   "execution_count": 15,
   "metadata": {},
   "outputs": [
    {
     "data": {
      "text/plain": [
       "(2, ['a', 'c', 'b'])"
      ]
     },
     "execution_count": 15,
     "metadata": {},
     "output_type": "execute_result"
    }
   ],
   "source": [
    "graph.shortestPath(\"a\",\"b\")"
   ]
  },
  {
   "cell_type": "markdown",
   "metadata": {},
   "source": [
    "#### 3.3 Diameter"
   ]
  },
  {
   "cell_type": "code",
   "execution_count": 16,
   "metadata": {},
   "outputs": [
    {
     "name": "stderr",
     "output_type": "stream",
     "text": [
      "100%|██████████| 7/7 [00:00<00:00, 6749.45it/s]\n"
     ]
    },
    {
     "data": {
      "text/plain": [
       "3.0"
      ]
     },
     "execution_count": 16,
     "metadata": {},
     "output_type": "execute_result"
    }
   ],
   "source": [
    "graph.diameter()"
   ]
  },
  {
   "cell_type": "markdown",
   "metadata": {},
   "source": [
    "#### 3.4 Spanning tree"
   ]
  },
  {
   "cell_type": "markdown",
   "metadata": {},
   "source": [
    "-----\n",
    "**TO DO**\n",
    "\n",
    "-----"
   ]
  },
  {
   "cell_type": "markdown",
   "metadata": {},
   "source": [
    "### 4. Testing on real datasets"
   ]
  },
  {
   "cell_type": "markdown",
   "metadata": {},
   "source": [
    "## Preprocessing"
   ]
  },
  {
   "cell_type": "code",
   "execution_count": 17,
   "metadata": {
    "collapsed": true
   },
   "outputs": [],
   "source": [
    "def to_set(x):\n",
    "    return set(x)\n",
    "    \n",
    "def turnDataIntoGraphReady(path):\n",
    "    df1 = pd.read_csv(path, sep='\\t', names=[\"a\",\"b\"])\n",
    "    df2 = pd.read_csv(path, sep='\\t', names=[\"b\",\"a\"])\n",
    "    df = df1.append(df2)\n",
    "    df.reset_index(inplace=True)\n",
    "    df.drop(\"index\", axis=1, inplace=True)\n",
    "    def to_set(x):\n",
    "        return set(x)\n",
    "    df = df.groupby('a')['b'].agg({'set': to_set})\n",
    "    df[\"a\"] = df.index\n",
    "    d = [{str(y): [str(z) for z in x]} for x,y in df.values.tolist()]\n",
    "    GA = {}\n",
    "    for data in d:\n",
    "        GA = {**GA, **data}\n",
    "        #time.sleep(.01)\n",
    "    return GA\n",
    "    "
   ]
  },
  {
   "cell_type": "markdown",
   "metadata": {},
   "source": [
    "Here are the paths of the data we want to test"
   ]
  },
  {
   "cell_type": "code",
   "execution_count": 18,
   "metadata": {
    "collapsed": true
   },
   "outputs": [],
   "source": [
    "paths = [\"zachary_connected.txt\",\"graph_100n_1000m.txt\", \"graph_1000n_4000m.txt\"] "
   ]
  },
  {
   "cell_type": "code",
   "execution_count": 19,
   "metadata": {
    "collapsed": true
   },
   "outputs": [],
   "source": [
    "columns = [\"number of vertices\",\"number of edges\",\n",
    "           \"density\",\"diameter\",\"clustering coefficient\"]\n",
    "answer = pd.DataFrame(index=paths, columns=columns)"
   ]
  },
  {
   "cell_type": "markdown",
   "metadata": {},
   "source": [
    "Here are the metrics asked"
   ]
  },
  {
   "cell_type": "code",
   "execution_count": 20,
   "metadata": {
    "scrolled": false
   },
   "outputs": [
    {
     "name": "stderr",
     "output_type": "stream",
     "text": [
      "100%|██████████| 33/33 [00:00<00:00, 873.16it/s]"
     ]
    },
    {
     "name": "stdout",
     "output_type": "stream",
     "text": [
      "========================\n",
      "Graph source is zachary_connected\n",
      "There are  33  vertices\n",
      "There are  78  edges\n",
      "The density is  0.14772727272727273\n",
      "The global clustering coefficient is  0.15458015267175573\n",
      "The diameter is  5.0\n",
      "\n",
      "\n",
      "========================\n",
      "Graph source is graph_100n_1000m\n",
      "There are  100  vertices\n",
      "There are  960  edges\n",
      "The density is  "
     ]
    },
    {
     "name": "stderr",
     "output_type": "stream",
     "text": [
      "\n",
      "  0%|          | 0/100 [00:00<?, ?it/s]"
     ]
    },
    {
     "name": "stdout",
     "output_type": "stream",
     "text": [
      "0.19393939393939394\n",
      "The global clustering coefficient is  0.19275720164609053\n"
     ]
    },
    {
     "name": "stderr",
     "output_type": "stream",
     "text": [
      "100%|██████████| 100/100 [00:00<00:00, 101.65it/s]\n"
     ]
    },
    {
     "name": "stdout",
     "output_type": "stream",
     "text": [
      "The diameter is  3.0\n",
      "\n",
      "\n",
      "========================\n",
      "Graph source is graph_1000n_4000m\n",
      "There are  1000  vertices\n",
      "There are  3989  edges\n",
      "The density is  0.007985985985985987\n",
      "The global clustering coefficient is  0.006997856512419619\n"
     ]
    },
    {
     "name": "stderr",
     "output_type": "stream",
     "text": [
      "100%|██████████| 1000/1000 [15:50<00:00,  1.09it/s]"
     ]
    },
    {
     "name": "stdout",
     "output_type": "stream",
     "text": [
      "The diameter is  6.0\n",
      "\n",
      "\n"
     ]
    },
    {
     "name": "stderr",
     "output_type": "stream",
     "text": [
      "\n"
     ]
    }
   ],
   "source": [
    "for path in paths:\n",
    "    print(\"========================\")\n",
    "    print(\"Graph source is \" + path[:-4])\n",
    "    t = turnDataIntoGraphReady(path=path)\n",
    "    g = Graph(t)\n",
    "    #####\n",
    "    nov = len(g.vertices())\n",
    "    print(\"There are \", nov,\" vertices\")\n",
    "    answer[\"number of vertices\"][path] = nov\n",
    "    #####\n",
    "    ed = len(g.edges())\n",
    "    print(\"There are \", ed,\" edges\")\n",
    "    answer[\"number of edges\"][path] = ed\n",
    "    #####\n",
    "    den = g.density()\n",
    "    print(\"The density is \", den)\n",
    "    answer[\"density\"][path] = den\n",
    "    #####\n",
    "    coef = g.global_clustering_coefficient()\n",
    "    print(\"The global clustering coefficient is \", coef)\n",
    "    answer[\"clustering coefficient\"][path] = coef\n",
    "    #####\n",
    "    diam = g.diameter()\n",
    "    print(\"The diameter is \", diam)\n",
    "    answer[\"diameter\"][path] = diam\n",
    "    print(\"\\n\")\n",
    "    \n"
   ]
  },
  {
   "cell_type": "markdown",
   "metadata": {
    "collapsed": true
   },
   "source": [
    "# Testing with a full library\n",
    "Networkxx\n",
    "https://github.com/networkx"
   ]
  },
  {
   "cell_type": "code",
   "execution_count": 26,
   "metadata": {
    "collapsed": true
   },
   "outputs": [],
   "source": [
    "networkXXanswer = pd.DataFrame(index=paths, columns=columns)"
   ]
  },
  {
   "cell_type": "code",
   "execution_count": 31,
   "metadata": {},
   "outputs": [
    {
     "name": "stdout",
     "output_type": "stream",
     "text": [
      "Graph source is zachary_connected\n",
      "There are  33  vertices\n",
      "There are  78  edges\n",
      "The density is  0.14772727272727273\n",
      "The global clustering coefficient is  0.2301499203905621\n",
      "The diameter is  5\n",
      "\n",
      "\n",
      "Graph source is graph_100n_1000m\n",
      "There are  100  vertices\n",
      "There are  960  edges\n",
      "The density is  0.19393939393939394\n",
      "The global clustering coefficient is  0.1938186184178089\n",
      "The diameter is  3\n",
      "\n",
      "\n",
      "Graph source is graph_1000n_4000m\n",
      "There are  1000  vertices\n",
      "There are  3989  edges\n",
      "The density is  0.007985985985985987\n",
      "The global clustering coefficient is  0.00733904543169248\n",
      "The diameter is  6\n",
      "\n",
      "\n"
     ]
    }
   ],
   "source": [
    "import networkx as nx\n",
    "for path in paths:\n",
    "    print(\"Graph source is \" + path[:-4])\n",
    "    g = nx.read_adjlist(path)\n",
    "    print(\"There are \", g.number_of_nodes(),\" vertices\")\n",
    "    networkXXanswer[\"number of vertices\"][path] = g.number_of_nodes()\n",
    "    print(\"There are \", g.number_of_edges(),\" edges\")\n",
    "    networkXXanswer[\"number of edges\"][path] = g.number_of_edges()\n",
    "    print(\"The density is \", nx.density(g))\n",
    "    networkXXanswer[\"density\"][path] = nx.density(g)\n",
    "    print(\"The global clustering coefficient is \", nx.average_clustering(g))\n",
    "    networkXXanswer[\"clustering coefficient\"][path] = nx.average_clustering(g)\n",
    "    print(\"The diameter is \", nx.diameter(g))\n",
    "    networkXXanswer[\"diameter\"][path] = nx.diameter(g)\n",
    "    print(\"\\n\")"
   ]
  },
  {
   "cell_type": "code",
   "execution_count": null,
   "metadata": {},
   "outputs": [],
   "source": []
  },
  {
   "cell_type": "markdown",
   "metadata": {},
   "source": [
    "My answer is :"
   ]
  },
  {
   "cell_type": "code",
   "execution_count": 32,
   "metadata": {},
   "outputs": [
    {
     "data": {
      "text/html": [
       "<div>\n",
       "<style>\n",
       "    .dataframe thead tr:only-child th {\n",
       "        text-align: right;\n",
       "    }\n",
       "\n",
       "    .dataframe thead th {\n",
       "        text-align: left;\n",
       "    }\n",
       "\n",
       "    .dataframe tbody tr th {\n",
       "        vertical-align: top;\n",
       "    }\n",
       "</style>\n",
       "<table border=\"1\" class=\"dataframe\">\n",
       "  <thead>\n",
       "    <tr style=\"text-align: right;\">\n",
       "      <th></th>\n",
       "      <th>number of vertices</th>\n",
       "      <th>number of edges</th>\n",
       "      <th>density</th>\n",
       "      <th>diameter</th>\n",
       "      <th>clustering coefficient</th>\n",
       "    </tr>\n",
       "  </thead>\n",
       "  <tbody>\n",
       "    <tr>\n",
       "      <th>zachary_connected.txt</th>\n",
       "      <td>33</td>\n",
       "      <td>78</td>\n",
       "      <td>0.147727</td>\n",
       "      <td>5</td>\n",
       "      <td>0.15458</td>\n",
       "    </tr>\n",
       "    <tr>\n",
       "      <th>graph_100n_1000m.txt</th>\n",
       "      <td>100</td>\n",
       "      <td>960</td>\n",
       "      <td>0.193939</td>\n",
       "      <td>3</td>\n",
       "      <td>0.192757</td>\n",
       "    </tr>\n",
       "    <tr>\n",
       "      <th>graph_1000n_4000m.txt</th>\n",
       "      <td>1000</td>\n",
       "      <td>3989</td>\n",
       "      <td>0.00798599</td>\n",
       "      <td>6</td>\n",
       "      <td>0.00699786</td>\n",
       "    </tr>\n",
       "  </tbody>\n",
       "</table>\n",
       "</div>"
      ],
      "text/plain": [
       "                      number of vertices number of edges     density diameter  \\\n",
       "zachary_connected.txt                 33              78    0.147727        5   \n",
       "graph_100n_1000m.txt                 100             960    0.193939        3   \n",
       "graph_1000n_4000m.txt               1000            3989  0.00798599        6   \n",
       "\n",
       "                      clustering coefficient  \n",
       "zachary_connected.txt                0.15458  \n",
       "graph_100n_1000m.txt                0.192757  \n",
       "graph_1000n_4000m.txt             0.00699786  "
      ]
     },
     "execution_count": 32,
     "metadata": {},
     "output_type": "execute_result"
    }
   ],
   "source": [
    "answer"
   ]
  },
  {
   "cell_type": "markdown",
   "metadata": {},
   "source": [
    "The Networkxx library answer is :"
   ]
  },
  {
   "cell_type": "code",
   "execution_count": 33,
   "metadata": {},
   "outputs": [
    {
     "data": {
      "text/html": [
       "<div>\n",
       "<style>\n",
       "    .dataframe thead tr:only-child th {\n",
       "        text-align: right;\n",
       "    }\n",
       "\n",
       "    .dataframe thead th {\n",
       "        text-align: left;\n",
       "    }\n",
       "\n",
       "    .dataframe tbody tr th {\n",
       "        vertical-align: top;\n",
       "    }\n",
       "</style>\n",
       "<table border=\"1\" class=\"dataframe\">\n",
       "  <thead>\n",
       "    <tr style=\"text-align: right;\">\n",
       "      <th></th>\n",
       "      <th>number of vertices</th>\n",
       "      <th>number of edges</th>\n",
       "      <th>density</th>\n",
       "      <th>diameter</th>\n",
       "      <th>clustering coefficient</th>\n",
       "    </tr>\n",
       "  </thead>\n",
       "  <tbody>\n",
       "    <tr>\n",
       "      <th>zachary_connected.txt</th>\n",
       "      <td>33</td>\n",
       "      <td>78</td>\n",
       "      <td>0.147727</td>\n",
       "      <td>5</td>\n",
       "      <td>0.23015</td>\n",
       "    </tr>\n",
       "    <tr>\n",
       "      <th>graph_100n_1000m.txt</th>\n",
       "      <td>100</td>\n",
       "      <td>960</td>\n",
       "      <td>0.193939</td>\n",
       "      <td>3</td>\n",
       "      <td>0.193819</td>\n",
       "    </tr>\n",
       "    <tr>\n",
       "      <th>graph_1000n_4000m.txt</th>\n",
       "      <td>1000</td>\n",
       "      <td>3989</td>\n",
       "      <td>0.00798599</td>\n",
       "      <td>6</td>\n",
       "      <td>0.00733905</td>\n",
       "    </tr>\n",
       "  </tbody>\n",
       "</table>\n",
       "</div>"
      ],
      "text/plain": [
       "                      number of vertices number of edges     density diameter  \\\n",
       "zachary_connected.txt                 33              78    0.147727        5   \n",
       "graph_100n_1000m.txt                 100             960    0.193939        3   \n",
       "graph_1000n_4000m.txt               1000            3989  0.00798599        6   \n",
       "\n",
       "                      clustering coefficient  \n",
       "zachary_connected.txt                0.23015  \n",
       "graph_100n_1000m.txt                0.193819  \n",
       "graph_1000n_4000m.txt             0.00733905  "
      ]
     },
     "execution_count": 33,
     "metadata": {},
     "output_type": "execute_result"
    }
   ],
   "source": [
    "networkXXanswer"
   ]
  },
  {
   "cell_type": "markdown",
   "metadata": {},
   "source": [
    "##### Some vizualisation is always nice :"
   ]
  },
  {
   "cell_type": "code",
   "execution_count": 34,
   "metadata": {},
   "outputs": [
    {
     "data": {
      "image/png": "[encoded data removed]",
      "text/plain": [
       "<matplotlib.figure.Figure at 0x15206d6550>"
      ]
     },
     "metadata": {},
     "output_type": "display_data"
    }
   ],
   "source": [
    "from matplotlib import pyplot as plt\n",
    "#pos=nx.spring_layout(g)\n",
    "nx.draw(g,node_size=1, width=.1)\n",
    "#nx.draw_networkx(g,node_size=1)\n",
    "plt.show()\n",
    "plt.close()"
   ]
  },
  {
   "cell_type": "code",
   "execution_count": null,
   "metadata": {
    "collapsed": true
   },
   "outputs": [],
   "source": []
  }
 ],
 "metadata": {
  "kernelspec": {
   "display_name": "Python 3",
   "language": "python",
   "name": "python3"
  },
  "language_info": {
   "codemirror_mode": {
    "name": "ipython",
    "version": 3
   },
   "file_extension": ".py",
   "mimetype": "text/x-python",
   "name": "python",
   "nbconvert_exporter": "python",
   "pygments_lexer": "ipython3",
   "version": "3.6.0"
  }
 },
 "nbformat": 4,
 "nbformat_minor": 2
}
